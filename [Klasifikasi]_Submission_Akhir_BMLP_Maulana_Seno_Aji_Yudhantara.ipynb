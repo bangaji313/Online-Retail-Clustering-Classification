{
  "cells": [
    {
      "cell_type": "markdown",
      "metadata": {
        "id": "fKADPWcFKlj3"
      },
      "source": [
        "# **1. Import Library**"
      ]
    },
    {
      "cell_type": "markdown",
      "metadata": {
        "id": "LgA3ERnVn84N"
      },
      "source": [
        "## **1. Import Library**\n",
        "\n",
        "Pada tahap ini, saya akan mengimpor berbagai library Python yang diperlukan untuk menjalankan proyek klasifikasi. Berikut adalah library yang akan digunakan beserta kegunaannya:\n",
        "\n",
        "1. **pandas**: \n",
        "   - Digunakan untuk manipulasi dan analisis data. Library ini memungkinkan saya untuk bekerja dengan DataFrame dan melakukan operasi seperti pembacaan, penulisan, dan pemrosesan data.\n",
        "\n",
        "2. **matplotlib.pyplot**: \n",
        "   - Digunakan untuk visualisasi data. Library ini memungkinkan saya untuk membuat grafik dan plot untuk menganalisis hasil model dengan lebih baik.\n",
        "\n",
        "3. **sklearn.model_selection**: \n",
        "   - Berisi fungsi untuk membagi dataset menjadi set pelatihan dan pengujian. Ini penting untuk mengevaluasi model klasifikasi secara adil.\n",
        "\n",
        "4. **sklearn.linear_model**: \n",
        "   - Mengandung model klasifikasi seperti Logistic Regression, yang akan digunakan untuk membangun model klasifikasi.\n",
        "\n",
        "5. **sklearn.ensemble**: \n",
        "   - Berisi algoritma ensemble seperti Random Forest, yang juga akan digunakan untuk membandingkan performa model.\n",
        "\n",
        "6. **sklearn.metrics**: \n",
        "   - Menyediakan fungsi untuk menghitung metrik evaluasi seperti akurasi dan F1-Score, yang akan digunakan untuk menilai kinerja model klasifikasi.\n",
        "\n",
        "7. **sklearn.model_selection (GridSearchCV dan RandomizedSearchCV)**: \n",
        "   - Digunakan untuk melakukan tuning hyperparameter dengan mencari kombinasi terbaik dari parameter yang diberikan. Ini membantu dalam meningkatkan kinerja model klasifikasi.\n",
        "\n",
        "Dengan mengimpor library ini, saya akan siap untuk membangun dan mengevaluasi model klasifikasi.\n"
      ]
    },
    {
      "cell_type": "code",
      "execution_count": 2,
      "metadata": {
        "id": "BlmvjLY9M4Yj"
      },
      "outputs": [],
      "source": [
        "import pandas as pd\n",
        "import matplotlib.pyplot as plt\n",
        "from sklearn.model_selection import train_test_split\n",
        "from sklearn.linear_model import LogisticRegression\n",
        "from sklearn.ensemble import RandomForestClassifier\n",
        "from sklearn.metrics import accuracy_score, f1_score, confusion_matrix, ConfusionMatrixDisplay\n",
        "from sklearn.model_selection import GridSearchCV, RandomizedSearchCV\n"
      ]
    },
    {
      "cell_type": "markdown",
      "metadata": {
        "id": "f3YIEnAFKrKL"
      },
      "source": [
        "# **2. Memuat Dataset dari Hasil Clustering**"
      ]
    },
    {
      "cell_type": "markdown",
      "metadata": {
        "id": "Ey3ItwTen_7E"
      },
      "source": [
        "Pada tahap ini, saya akan memuat dataset yang telah dilabeli berdasarkan hasil clustering sebelumnya. Dataset ini akan digunakan sebagai input untuk model klasifikasi. Berikut adalah langkah-langkah yang akan dilakukan:\n",
        "\n",
        "1. **Membaca Dataset**:\n",
        "   - Saya akan menggunakan library `pandas` untuk membaca file CSV yang berisi data hasil clustering. File ini diharapkan sudah berisi kolom-kolom yang relevan, termasuk label cluster.\n",
        "\n",
        "2. **Menampilkan Beberapa Baris Awal**:\n",
        "   - Setelah memuat dataset, saya akan menampilkan beberapa baris pertama untuk memastikan bahwa data telah berhasil dimuat dan memiliki struktur yang diharapkan.\n",
        "\n",
        "Dengan langkah-langkah ini, saya akan siap untuk melanjutkan ke tahap klasifikasi menggunakan dataset yang telah diproses.\n"
      ]
    },
    {
      "cell_type": "code",
      "execution_count": 3,
      "metadata": {
        "id": "GHCGNTyrM5fS"
      },
      "outputs": [
        {
          "name": "stdout",
          "output_type": "stream",
          "text": [
            "Data hasil clustering:\n",
            "   InvoiceNo StockCode                          Description  Quantity  \\\n",
            "0     536365    85123A   WHITE HANGING HEART T-LIGHT HOLDER       6.0   \n",
            "1     536365     71053                  WHITE METAL LANTERN       6.0   \n",
            "2     536365    84406B       CREAM CUPID HEARTS COAT HANGER       8.0   \n",
            "3     536365    84029G  KNITTED UNION FLAG HOT WATER BOTTLE       6.0   \n",
            "4     536365    84029E       RED WOOLLY HOTTIE WHITE HEART.       6.0   \n",
            "\n",
            "           InvoiceDate  UnitPrice  CustomerID         Country  TotalPrice  \\\n",
            "0  2010-12-01 08:26:00       2.55     17850.0  United Kingdom       15.30   \n",
            "1  2010-12-01 08:26:00       3.39     17850.0  United Kingdom       20.34   \n",
            "2  2010-12-01 08:26:00       2.75     17850.0  United Kingdom       22.00   \n",
            "3  2010-12-01 08:26:00       3.39     17850.0  United Kingdom       20.34   \n",
            "4  2010-12-01 08:26:00       3.39     17850.0  United Kingdom       20.34   \n",
            "\n",
            "   InvoiceMonth  InvoiceDay  InvoiceHour  Cluster      PCA1      PCA2  \n",
            "0          12.0         1.0          8.0        0  1.356383 -1.988063  \n",
            "1          12.0         1.0          8.0        0  1.355605 -1.983441  \n",
            "2          12.0         1.0          8.0        0  1.355654 -1.993803  \n",
            "3          12.0         1.0          8.0        0  1.355605 -1.983441  \n",
            "4          12.0         1.0          8.0        0  1.355605 -1.983441  \n"
          ]
        }
      ],
      "source": [
        "# Memuat dataset hasil clustering\n",
        "df_clustered = pd.read_csv('Online_Retail_Clustered.csv')\n",
        "\n",
        "# Menampilkan beberapa baris awal untuk memastikan data berhasil dimuat\n",
        "print(\"Data hasil clustering:\")\n",
        "print(df_clustered.head())\n"
      ]
    },
    {
      "cell_type": "markdown",
      "metadata": {},
      "source": [
        "### Hasil Dataset Hasil Clustering\n",
        "\n",
        "Setelah memuat dataset hasil clustering, berikut adalah output yang diperoleh:\n",
        "\n",
        "- **Data Hasil Clustering**:\n",
        "  - Tabel di bawah menunjukkan beberapa baris dari dataset yang telah dimuat, yang berisi informasi terkait transaksi dan label cluster:\n",
        "\n",
        "  | InvoiceNo | StockCode | Description                          | Quantity | InvoiceDate          | UnitPrice | CustomerID | Country         | TotalPrice | InvoiceMonth | InvoiceDay | InvoiceHour | Cluster |   PCA1   |   PCA2   |\n",
        "  |-----------|-----------|--------------------------------------|----------|----------------------|-----------|------------|------------------|------------|--------------|------------|-------------|---------|----------|----------|\n",
        "  | 536365    | 85123A    | WHITE HANGING HEART T-LIGHT HOLDER   | 6.0      | 2010-12-01 08:26:00  | 2.55      | 17850.0    | United Kingdom    | 15.30      | 12.0         | 1.0        | 8.0         | 0       | 1.356383 | -1.988063 |\n",
        "  | 536365    | 71053     | WHITE METAL LANTERN                  | 6.0      | 2010-12-01 08:26:00  | 3.39      | 17850.0    | United Kingdom    | 20.34      | 12.0         | 1.0        | 8.0         | 0       | 1.355605 | -1.983441 |\n",
        "  | 536365    | 84406B    | CREAM CUPID HEARTS COAT HANGER      | 8.0      | 2010-12-01 08:26:00  | 2.75      | 17850.0    | United Kingdom    | 22.00      | 12.0         | 1.0        | 8.0         | 0       | 1.355654 | -1.993803 |\n",
        "  | 536365    | 84029G    | KNITTED UNION FLAG HOT WATER BOTTLE  | 6.0      | 2010-12-01 08:26:00  | 3.39      | 17850.0    | United Kingdom    | 20.34      | 12.0         | 1.0        | 8.0         | 0       | 1.355605 | -1.983441 |\n",
        "  | 536365    | 84029E    | RED WOOLLY HOTTIE WHITE HEART.      | 6.0      | 2010-12-01 08:26:00  | 3.39      | 17850.0    | United Kingdom    | 20.34      | 12.0         | 1.0        | 8.0         | 0       | 1.355605 | -1.983441 |\n",
        "\n",
        "- **Penjelasan Kolom**:\n",
        "  - **InvoiceNo**: Nomor faktur untuk setiap transaksi, yang menunjukkan identitas unik dari transaksi.\n",
        "  - **StockCode**: Kode unik untuk setiap produk, penting untuk analisis produk.\n",
        "  - **Description**: Deskripsi produk, memberikan konteks lebih dalam analisis.\n",
        "  - **Quantity**: Jumlah unit produk yang dibeli dalam transaksi.\n",
        "  - **InvoiceDate**: Tanggal dan waktu transaksi, dapat digunakan untuk analisis temporal.\n",
        "  - **UnitPrice**: Harga per unit produk, fitur numerik yang krusial untuk analisis nilai transaksi.\n",
        "  - **CustomerID**: ID unik pelanggan, penting untuk segmentasi pelanggan.\n",
        "  - **Country**: Negara asal pelanggan, memberikan wawasan demografis.\n",
        "  - **TotalPrice**: Total nilai transaksi, dihitung dari `Quantity` dan `UnitPrice`.\n",
        "  - **InvoiceMonth, InvoiceDay, InvoiceHour**: Fitur yang diekstrak dari `InvoiceDate`, berguna untuk analisis pola pembelian berdasarkan waktu.\n",
        "  - **Cluster**: Label cluster yang dihasilkan dari model clustering, menunjukkan kelompok di mana transaksi tersebut dikelompokkan.\n",
        "  - **PCA1 dan PCA2**: Hasil dari proyeksi PCA yang mereduksi dimensi data untuk visualisasi.\n",
        "\n",
        "Data yang dimuat memberikan gambaran lengkap tentang transaksi dan pengelompokan pelanggan berdasarkan model clustering. Ini memungkinkan analisis lebih lanjut untuk memahami pola pembelian dan karakteristik pelanggan.\n"
      ]
    },
    {
      "cell_type": "markdown",
      "metadata": {
        "id": "KkPem5eWL2UP"
      },
      "source": [
        "# **3. Data Splitting**"
      ]
    },
    {
      "cell_type": "markdown",
      "metadata": {
        "id": "YYj1rl_JNI9Y"
      },
      "source": [
        "Pada tahap ini, saya akan memisahkan dataset menjadi dua bagian: **data latih (training set)** dan **data uji (test set)**. Pembagian ini penting untuk memastikan bahwa model klasifikasi dapat dievaluasi secara adil dan tidak overfit pada data yang telah dilatih.\n",
        "\n",
        "### Langkah-langkah yang Akan Dilakukan:\n",
        "1. **Menentukan Fitur dan Target**:\n",
        "   - Memilih fitur yang akan digunakan untuk pelatihan model dan menentukan kolom yang akan menjadi target klasifikasi (label).\n",
        "\n",
        "2. **Pembagian Data**:\n",
        "   - Menggunakan fungsi dari library `sklearn.model_selection` untuk membagi dataset menjadi data latih dan data uji. Umumnya, proporsi yang digunakan adalah 80% untuk data latih dan 20% untuk data uji.\n",
        "\n",
        "3. **Mengatur Random State**:\n",
        "   - Menetapkan nilai `random_state` untuk memastikan bahwa pembagian data dapat direproduksi di masa mendatang.\n",
        "\n",
        "Dengan langkah-langkah ini, saya akan siap untuk melatih model klasifikasi menggunakan data latih dan mengevaluasi kinerjanya dengan data uji.\n"
      ]
    },
    {
      "cell_type": "code",
      "execution_count": 4,
      "metadata": {
        "id": "OubAW-7ONKVj"
      },
      "outputs": [
        {
          "name": "stdout",
          "output_type": "stream",
          "text": [
            "Ukuran data latih: 314153\n",
            "Ukuran data uji: 78539\n"
          ]
        }
      ],
      "source": [
        "# 1. Menentukan Fitur dan Target\n",
        "X = df_clustered[['Quantity', 'UnitPrice', 'InvoiceMonth', 'InvoiceDay', 'InvoiceHour']]\n",
        "y = df_clustered['Cluster']\n",
        "\n",
        "# 2. Pembagian Data\n",
        "X_train, X_test, y_train, y_test = train_test_split(X, y, test_size=0.2, random_state=42)\n",
        "\n",
        "# Menampilkan ukuran data latih dan data uji\n",
        "print(f'Ukuran data latih: {X_train.shape[0]}')\n",
        "print(f'Ukuran data uji: {X_test.shape[0]}')"
      ]
    },
    {
      "cell_type": "markdown",
      "metadata": {},
      "source": [
        "### Hasil Pembagian Data\n",
        "\n",
        "Setelah melakukan pembagian dataset menjadi data latih dan data uji, berikut adalah hasil yang diperoleh:\n",
        "\n",
        "- **Ukuran Data Latih**:\n",
        "  - Jumlah baris dalam data latih adalah **314.153**. \n",
        "  - Data ini akan digunakan untuk melatih model klasifikasi, memberikan cukup banyak contoh untuk memastikan model dapat belajar dengan baik.\n",
        "\n",
        "- **Ukuran Data Uji**:\n",
        "  - Jumlah baris dalam data uji adalah **78.539**. \n",
        "  - Data ini akan digunakan untuk mengevaluasi kinerja model setelah dilatih, memastikan bahwa model dapat generalisasi dengan baik pada data yang belum pernah dilihat sebelumnya.\n",
        "\n",
        "Pembagian data ini menggunakan proporsi 80:20, yang merupakan praktik umum dalam machine learning untuk memastikan bahwa ada cukup data untuk melatih model sambil tetap memiliki set yang cukup besar untuk evaluasi. Dengan ukuran data latih dan data uji yang ditentukan, saya siap untuk melanjutkan ke tahap pelatihan model klasifikasi.\n"
      ]
    },
    {
      "cell_type": "markdown",
      "metadata": {
        "id": "IVPbB03CMhTT"
      },
      "source": [
        "# **4. Membangun Model Klasifikasi**\n"
      ]
    },
    {
      "cell_type": "markdown",
      "metadata": {
        "id": "Ned1pL9zMmBK"
      },
      "source": [
        "## **a. Membangun Model Klasifikasi**"
      ]
    },
    {
      "cell_type": "markdown",
      "metadata": {
        "id": "WAWzPOE4Nkti"
      },
      "source": [
        "Setelah memilih algoritma klasifikasi yang sesuai, langkah selanjutnya adalah melatih model menggunakan data latih. Pada tahap ini, saya akan melakukan langkah-langkah berikut:\n",
        "\n",
        "1. **Pilih Algoritma Klasifikasi yang Sesuai**:\n",
        "   - Saya akan menggunakan dua algoritma klasifikasi yang telah diimpor sebelumnya, yaitu **Logistic Regression** dan **Random Forest**. Kedua algoritma ini memiliki karakteristik yang berbeda dan akan memungkinkan saya untuk membandingkan kinerja model.\n",
        "\n",
        "2. **Latih Model Menggunakan Data Latih**:\n",
        "   - Model akan dilatih dengan menggunakan data latih yang telah dipisahkan sebelumnya. Saya akan melatih masing-masing model dan menyimpan hasilnya untuk evaluasi lebih lanjut.\n",
        "\n",
        "Dengan langkah-langkah ini, akan siap untuk mengevaluasi kinerja model klasifikasi dan membandingkannya untuk menemukan model yang terbaik.\n"
      ]
    },
    {
      "cell_type": "code",
      "execution_count": 5,
      "metadata": {
        "id": "4JYxBe87NLDk"
      },
      "outputs": [
        {
          "name": "stderr",
          "output_type": "stream",
          "text": [
            "g:\\Software-IF\\Python_3-11-5\\Lib\\site-packages\\sklearn\\linear_model\\_logistic.py:469: ConvergenceWarning: lbfgs failed to converge (status=1):\n",
            "STOP: TOTAL NO. of ITERATIONS REACHED LIMIT.\n",
            "\n",
            "Increase the number of iterations (max_iter) or scale the data as shown in:\n",
            "    https://scikit-learn.org/stable/modules/preprocessing.html\n",
            "Please also refer to the documentation for alternative solver options:\n",
            "    https://scikit-learn.org/stable/modules/linear_model.html#logistic-regression\n",
            "  n_iter_i = _check_optimize_result(\n"
          ]
        },
        {
          "data": {
            "text/html": [
              "<style>#sk-container-id-1 {\n",
              "  /* Definition of color scheme common for light and dark mode */\n",
              "  --sklearn-color-text: black;\n",
              "  --sklearn-color-line: gray;\n",
              "  /* Definition of color scheme for unfitted estimators */\n",
              "  --sklearn-color-unfitted-level-0: #fff5e6;\n",
              "  --sklearn-color-unfitted-level-1: #f6e4d2;\n",
              "  --sklearn-color-unfitted-level-2: #ffe0b3;\n",
              "  --sklearn-color-unfitted-level-3: chocolate;\n",
              "  /* Definition of color scheme for fitted estimators */\n",
              "  --sklearn-color-fitted-level-0: #f0f8ff;\n",
              "  --sklearn-color-fitted-level-1: #d4ebff;\n",
              "  --sklearn-color-fitted-level-2: #b3dbfd;\n",
              "  --sklearn-color-fitted-level-3: cornflowerblue;\n",
              "\n",
              "  /* Specific color for light theme */\n",
              "  --sklearn-color-text-on-default-background: var(--sg-text-color, var(--theme-code-foreground, var(--jp-content-font-color1, black)));\n",
              "  --sklearn-color-background: var(--sg-background-color, var(--theme-background, var(--jp-layout-color0, white)));\n",
              "  --sklearn-color-border-box: var(--sg-text-color, var(--theme-code-foreground, var(--jp-content-font-color1, black)));\n",
              "  --sklearn-color-icon: #696969;\n",
              "\n",
              "  @media (prefers-color-scheme: dark) {\n",
              "    /* Redefinition of color scheme for dark theme */\n",
              "    --sklearn-color-text-on-default-background: var(--sg-text-color, var(--theme-code-foreground, var(--jp-content-font-color1, white)));\n",
              "    --sklearn-color-background: var(--sg-background-color, var(--theme-background, var(--jp-layout-color0, #111)));\n",
              "    --sklearn-color-border-box: var(--sg-text-color, var(--theme-code-foreground, var(--jp-content-font-color1, white)));\n",
              "    --sklearn-color-icon: #878787;\n",
              "  }\n",
              "}\n",
              "\n",
              "#sk-container-id-1 {\n",
              "  color: var(--sklearn-color-text);\n",
              "}\n",
              "\n",
              "#sk-container-id-1 pre {\n",
              "  padding: 0;\n",
              "}\n",
              "\n",
              "#sk-container-id-1 input.sk-hidden--visually {\n",
              "  border: 0;\n",
              "  clip: rect(1px 1px 1px 1px);\n",
              "  clip: rect(1px, 1px, 1px, 1px);\n",
              "  height: 1px;\n",
              "  margin: -1px;\n",
              "  overflow: hidden;\n",
              "  padding: 0;\n",
              "  position: absolute;\n",
              "  width: 1px;\n",
              "}\n",
              "\n",
              "#sk-container-id-1 div.sk-dashed-wrapped {\n",
              "  border: 1px dashed var(--sklearn-color-line);\n",
              "  margin: 0 0.4em 0.5em 0.4em;\n",
              "  box-sizing: border-box;\n",
              "  padding-bottom: 0.4em;\n",
              "  background-color: var(--sklearn-color-background);\n",
              "}\n",
              "\n",
              "#sk-container-id-1 div.sk-container {\n",
              "  /* jupyter's `normalize.less` sets `[hidden] { display: none; }`\n",
              "     but bootstrap.min.css set `[hidden] { display: none !important; }`\n",
              "     so we also need the `!important` here to be able to override the\n",
              "     default hidden behavior on the sphinx rendered scikit-learn.org.\n",
              "     See: https://github.com/scikit-learn/scikit-learn/issues/21755 */\n",
              "  display: inline-block !important;\n",
              "  position: relative;\n",
              "}\n",
              "\n",
              "#sk-container-id-1 div.sk-text-repr-fallback {\n",
              "  display: none;\n",
              "}\n",
              "\n",
              "div.sk-parallel-item,\n",
              "div.sk-serial,\n",
              "div.sk-item {\n",
              "  /* draw centered vertical line to link estimators */\n",
              "  background-image: linear-gradient(var(--sklearn-color-text-on-default-background), var(--sklearn-color-text-on-default-background));\n",
              "  background-size: 2px 100%;\n",
              "  background-repeat: no-repeat;\n",
              "  background-position: center center;\n",
              "}\n",
              "\n",
              "/* Parallel-specific style estimator block */\n",
              "\n",
              "#sk-container-id-1 div.sk-parallel-item::after {\n",
              "  content: \"\";\n",
              "  width: 100%;\n",
              "  border-bottom: 2px solid var(--sklearn-color-text-on-default-background);\n",
              "  flex-grow: 1;\n",
              "}\n",
              "\n",
              "#sk-container-id-1 div.sk-parallel {\n",
              "  display: flex;\n",
              "  align-items: stretch;\n",
              "  justify-content: center;\n",
              "  background-color: var(--sklearn-color-background);\n",
              "  position: relative;\n",
              "}\n",
              "\n",
              "#sk-container-id-1 div.sk-parallel-item {\n",
              "  display: flex;\n",
              "  flex-direction: column;\n",
              "}\n",
              "\n",
              "#sk-container-id-1 div.sk-parallel-item:first-child::after {\n",
              "  align-self: flex-end;\n",
              "  width: 50%;\n",
              "}\n",
              "\n",
              "#sk-container-id-1 div.sk-parallel-item:last-child::after {\n",
              "  align-self: flex-start;\n",
              "  width: 50%;\n",
              "}\n",
              "\n",
              "#sk-container-id-1 div.sk-parallel-item:only-child::after {\n",
              "  width: 0;\n",
              "}\n",
              "\n",
              "/* Serial-specific style estimator block */\n",
              "\n",
              "#sk-container-id-1 div.sk-serial {\n",
              "  display: flex;\n",
              "  flex-direction: column;\n",
              "  align-items: center;\n",
              "  background-color: var(--sklearn-color-background);\n",
              "  padding-right: 1em;\n",
              "  padding-left: 1em;\n",
              "}\n",
              "\n",
              "\n",
              "/* Toggleable style: style used for estimator/Pipeline/ColumnTransformer box that is\n",
              "clickable and can be expanded/collapsed.\n",
              "- Pipeline and ColumnTransformer use this feature and define the default style\n",
              "- Estimators will overwrite some part of the style using the `sk-estimator` class\n",
              "*/\n",
              "\n",
              "/* Pipeline and ColumnTransformer style (default) */\n",
              "\n",
              "#sk-container-id-1 div.sk-toggleable {\n",
              "  /* Default theme specific background. It is overwritten whether we have a\n",
              "  specific estimator or a Pipeline/ColumnTransformer */\n",
              "  background-color: var(--sklearn-color-background);\n",
              "}\n",
              "\n",
              "/* Toggleable label */\n",
              "#sk-container-id-1 label.sk-toggleable__label {\n",
              "  cursor: pointer;\n",
              "  display: block;\n",
              "  width: 100%;\n",
              "  margin-bottom: 0;\n",
              "  padding: 0.5em;\n",
              "  box-sizing: border-box;\n",
              "  text-align: center;\n",
              "}\n",
              "\n",
              "#sk-container-id-1 label.sk-toggleable__label-arrow:before {\n",
              "  /* Arrow on the left of the label */\n",
              "  content: \"▸\";\n",
              "  float: left;\n",
              "  margin-right: 0.25em;\n",
              "  color: var(--sklearn-color-icon);\n",
              "}\n",
              "\n",
              "#sk-container-id-1 label.sk-toggleable__label-arrow:hover:before {\n",
              "  color: var(--sklearn-color-text);\n",
              "}\n",
              "\n",
              "/* Toggleable content - dropdown */\n",
              "\n",
              "#sk-container-id-1 div.sk-toggleable__content {\n",
              "  max-height: 0;\n",
              "  max-width: 0;\n",
              "  overflow: hidden;\n",
              "  text-align: left;\n",
              "  /* unfitted */\n",
              "  background-color: var(--sklearn-color-unfitted-level-0);\n",
              "}\n",
              "\n",
              "#sk-container-id-1 div.sk-toggleable__content.fitted {\n",
              "  /* fitted */\n",
              "  background-color: var(--sklearn-color-fitted-level-0);\n",
              "}\n",
              "\n",
              "#sk-container-id-1 div.sk-toggleable__content pre {\n",
              "  margin: 0.2em;\n",
              "  border-radius: 0.25em;\n",
              "  color: var(--sklearn-color-text);\n",
              "  /* unfitted */\n",
              "  background-color: var(--sklearn-color-unfitted-level-0);\n",
              "}\n",
              "\n",
              "#sk-container-id-1 div.sk-toggleable__content.fitted pre {\n",
              "  /* unfitted */\n",
              "  background-color: var(--sklearn-color-fitted-level-0);\n",
              "}\n",
              "\n",
              "#sk-container-id-1 input.sk-toggleable__control:checked~div.sk-toggleable__content {\n",
              "  /* Expand drop-down */\n",
              "  max-height: 200px;\n",
              "  max-width: 100%;\n",
              "  overflow: auto;\n",
              "}\n",
              "\n",
              "#sk-container-id-1 input.sk-toggleable__control:checked~label.sk-toggleable__label-arrow:before {\n",
              "  content: \"▾\";\n",
              "}\n",
              "\n",
              "/* Pipeline/ColumnTransformer-specific style */\n",
              "\n",
              "#sk-container-id-1 div.sk-label input.sk-toggleable__control:checked~label.sk-toggleable__label {\n",
              "  color: var(--sklearn-color-text);\n",
              "  background-color: var(--sklearn-color-unfitted-level-2);\n",
              "}\n",
              "\n",
              "#sk-container-id-1 div.sk-label.fitted input.sk-toggleable__control:checked~label.sk-toggleable__label {\n",
              "  background-color: var(--sklearn-color-fitted-level-2);\n",
              "}\n",
              "\n",
              "/* Estimator-specific style */\n",
              "\n",
              "/* Colorize estimator box */\n",
              "#sk-container-id-1 div.sk-estimator input.sk-toggleable__control:checked~label.sk-toggleable__label {\n",
              "  /* unfitted */\n",
              "  background-color: var(--sklearn-color-unfitted-level-2);\n",
              "}\n",
              "\n",
              "#sk-container-id-1 div.sk-estimator.fitted input.sk-toggleable__control:checked~label.sk-toggleable__label {\n",
              "  /* fitted */\n",
              "  background-color: var(--sklearn-color-fitted-level-2);\n",
              "}\n",
              "\n",
              "#sk-container-id-1 div.sk-label label.sk-toggleable__label,\n",
              "#sk-container-id-1 div.sk-label label {\n",
              "  /* The background is the default theme color */\n",
              "  color: var(--sklearn-color-text-on-default-background);\n",
              "}\n",
              "\n",
              "/* On hover, darken the color of the background */\n",
              "#sk-container-id-1 div.sk-label:hover label.sk-toggleable__label {\n",
              "  color: var(--sklearn-color-text);\n",
              "  background-color: var(--sklearn-color-unfitted-level-2);\n",
              "}\n",
              "\n",
              "/* Label box, darken color on hover, fitted */\n",
              "#sk-container-id-1 div.sk-label.fitted:hover label.sk-toggleable__label.fitted {\n",
              "  color: var(--sklearn-color-text);\n",
              "  background-color: var(--sklearn-color-fitted-level-2);\n",
              "}\n",
              "\n",
              "/* Estimator label */\n",
              "\n",
              "#sk-container-id-1 div.sk-label label {\n",
              "  font-family: monospace;\n",
              "  font-weight: bold;\n",
              "  display: inline-block;\n",
              "  line-height: 1.2em;\n",
              "}\n",
              "\n",
              "#sk-container-id-1 div.sk-label-container {\n",
              "  text-align: center;\n",
              "}\n",
              "\n",
              "/* Estimator-specific */\n",
              "#sk-container-id-1 div.sk-estimator {\n",
              "  font-family: monospace;\n",
              "  border: 1px dotted var(--sklearn-color-border-box);\n",
              "  border-radius: 0.25em;\n",
              "  box-sizing: border-box;\n",
              "  margin-bottom: 0.5em;\n",
              "  /* unfitted */\n",
              "  background-color: var(--sklearn-color-unfitted-level-0);\n",
              "}\n",
              "\n",
              "#sk-container-id-1 div.sk-estimator.fitted {\n",
              "  /* fitted */\n",
              "  background-color: var(--sklearn-color-fitted-level-0);\n",
              "}\n",
              "\n",
              "/* on hover */\n",
              "#sk-container-id-1 div.sk-estimator:hover {\n",
              "  /* unfitted */\n",
              "  background-color: var(--sklearn-color-unfitted-level-2);\n",
              "}\n",
              "\n",
              "#sk-container-id-1 div.sk-estimator.fitted:hover {\n",
              "  /* fitted */\n",
              "  background-color: var(--sklearn-color-fitted-level-2);\n",
              "}\n",
              "\n",
              "/* Specification for estimator info (e.g. \"i\" and \"?\") */\n",
              "\n",
              "/* Common style for \"i\" and \"?\" */\n",
              "\n",
              ".sk-estimator-doc-link,\n",
              "a:link.sk-estimator-doc-link,\n",
              "a:visited.sk-estimator-doc-link {\n",
              "  float: right;\n",
              "  font-size: smaller;\n",
              "  line-height: 1em;\n",
              "  font-family: monospace;\n",
              "  background-color: var(--sklearn-color-background);\n",
              "  border-radius: 1em;\n",
              "  height: 1em;\n",
              "  width: 1em;\n",
              "  text-decoration: none !important;\n",
              "  margin-left: 1ex;\n",
              "  /* unfitted */\n",
              "  border: var(--sklearn-color-unfitted-level-1) 1pt solid;\n",
              "  color: var(--sklearn-color-unfitted-level-1);\n",
              "}\n",
              "\n",
              ".sk-estimator-doc-link.fitted,\n",
              "a:link.sk-estimator-doc-link.fitted,\n",
              "a:visited.sk-estimator-doc-link.fitted {\n",
              "  /* fitted */\n",
              "  border: var(--sklearn-color-fitted-level-1) 1pt solid;\n",
              "  color: var(--sklearn-color-fitted-level-1);\n",
              "}\n",
              "\n",
              "/* On hover */\n",
              "div.sk-estimator:hover .sk-estimator-doc-link:hover,\n",
              ".sk-estimator-doc-link:hover,\n",
              "div.sk-label-container:hover .sk-estimator-doc-link:hover,\n",
              ".sk-estimator-doc-link:hover {\n",
              "  /* unfitted */\n",
              "  background-color: var(--sklearn-color-unfitted-level-3);\n",
              "  color: var(--sklearn-color-background);\n",
              "  text-decoration: none;\n",
              "}\n",
              "\n",
              "div.sk-estimator.fitted:hover .sk-estimator-doc-link.fitted:hover,\n",
              ".sk-estimator-doc-link.fitted:hover,\n",
              "div.sk-label-container:hover .sk-estimator-doc-link.fitted:hover,\n",
              ".sk-estimator-doc-link.fitted:hover {\n",
              "  /* fitted */\n",
              "  background-color: var(--sklearn-color-fitted-level-3);\n",
              "  color: var(--sklearn-color-background);\n",
              "  text-decoration: none;\n",
              "}\n",
              "\n",
              "/* Span, style for the box shown on hovering the info icon */\n",
              ".sk-estimator-doc-link span {\n",
              "  display: none;\n",
              "  z-index: 9999;\n",
              "  position: relative;\n",
              "  font-weight: normal;\n",
              "  right: .2ex;\n",
              "  padding: .5ex;\n",
              "  margin: .5ex;\n",
              "  width: min-content;\n",
              "  min-width: 20ex;\n",
              "  max-width: 50ex;\n",
              "  color: var(--sklearn-color-text);\n",
              "  box-shadow: 2pt 2pt 4pt #999;\n",
              "  /* unfitted */\n",
              "  background: var(--sklearn-color-unfitted-level-0);\n",
              "  border: .5pt solid var(--sklearn-color-unfitted-level-3);\n",
              "}\n",
              "\n",
              ".sk-estimator-doc-link.fitted span {\n",
              "  /* fitted */\n",
              "  background: var(--sklearn-color-fitted-level-0);\n",
              "  border: var(--sklearn-color-fitted-level-3);\n",
              "}\n",
              "\n",
              ".sk-estimator-doc-link:hover span {\n",
              "  display: block;\n",
              "}\n",
              "\n",
              "/* \"?\"-specific style due to the `<a>` HTML tag */\n",
              "\n",
              "#sk-container-id-1 a.estimator_doc_link {\n",
              "  float: right;\n",
              "  font-size: 1rem;\n",
              "  line-height: 1em;\n",
              "  font-family: monospace;\n",
              "  background-color: var(--sklearn-color-background);\n",
              "  border-radius: 1rem;\n",
              "  height: 1rem;\n",
              "  width: 1rem;\n",
              "  text-decoration: none;\n",
              "  /* unfitted */\n",
              "  color: var(--sklearn-color-unfitted-level-1);\n",
              "  border: var(--sklearn-color-unfitted-level-1) 1pt solid;\n",
              "}\n",
              "\n",
              "#sk-container-id-1 a.estimator_doc_link.fitted {\n",
              "  /* fitted */\n",
              "  border: var(--sklearn-color-fitted-level-1) 1pt solid;\n",
              "  color: var(--sklearn-color-fitted-level-1);\n",
              "}\n",
              "\n",
              "/* On hover */\n",
              "#sk-container-id-1 a.estimator_doc_link:hover {\n",
              "  /* unfitted */\n",
              "  background-color: var(--sklearn-color-unfitted-level-3);\n",
              "  color: var(--sklearn-color-background);\n",
              "  text-decoration: none;\n",
              "}\n",
              "\n",
              "#sk-container-id-1 a.estimator_doc_link.fitted:hover {\n",
              "  /* fitted */\n",
              "  background-color: var(--sklearn-color-fitted-level-3);\n",
              "}\n",
              "</style><div id=\"sk-container-id-1\" class=\"sk-top-container\"><div class=\"sk-text-repr-fallback\"><pre>RandomForestClassifier()</pre><b>In a Jupyter environment, please rerun this cell to show the HTML representation or trust the notebook. <br />On GitHub, the HTML representation is unable to render, please try loading this page with nbviewer.org.</b></div><div class=\"sk-container\" hidden><div class=\"sk-item\"><div class=\"sk-estimator fitted sk-toggleable\"><input class=\"sk-toggleable__control sk-hidden--visually\" id=\"sk-estimator-id-1\" type=\"checkbox\" checked><label for=\"sk-estimator-id-1\" class=\"sk-toggleable__label fitted sk-toggleable__label-arrow fitted\">&nbsp;&nbsp;RandomForestClassifier<a class=\"sk-estimator-doc-link fitted\" rel=\"noreferrer\" target=\"_blank\" href=\"https://scikit-learn.org/1.5/modules/generated/sklearn.ensemble.RandomForestClassifier.html\">?<span>Documentation for RandomForestClassifier</span></a><span class=\"sk-estimator-doc-link fitted\">i<span>Fitted</span></span></label><div class=\"sk-toggleable__content fitted\"><pre>RandomForestClassifier()</pre></div> </div></div></div></div>"
            ],
            "text/plain": [
              "RandomForestClassifier()"
            ]
          },
          "execution_count": 5,
          "metadata": {},
          "output_type": "execute_result"
        }
      ],
      "source": [
        "# 1. Pilih Algoritma Klasifikasi yang Sesuai\n",
        "# Logistic Regression\n",
        "logistic_model = LogisticRegression(max_iter=1000)\n",
        "logistic_model.fit(X_train, y_train)\n",
        "\n",
        "# Random Forest\n",
        "rf_model = RandomForestClassifier()\n",
        "rf_model.fit(X_train, y_train)\n"
      ]
    },
    {
      "cell_type": "markdown",
      "metadata": {
        "id": "seYoHNY3XU1y"
      },
      "source": [
        "## **Penjelasan Algoritma Klasifikasi**\n",
        "\n",
        "Dalam proyek klasifikasi ini, saya menggunakan dua algoritma klasifikasi yang berbeda, yaitu **Logistic Regression** dan **Random Forest**. Berikut adalah penjelasan mengenai masing-masing algoritma:\n",
        "\n",
        "### 1. Logistic Regression\n",
        "\n",
        "- **Deskripsi**: \n",
        "  Logistic Regression adalah algoritma klasifikasi yang digunakan untuk memprediksi probabilitas dari dua kelas (binary classification). Meskipun namanya mengandung kata \"regresi\", algoritma ini digunakan untuk klasifikasi dengan memodelkan hubungan antara variabel independen dan variabel dependen (kelas) menggunakan fungsi logistik.\n",
        "\n",
        "- **Kelebihan**:\n",
        "  - **Sederhana dan Mudah Dipahami**: Logistic Regression mudah diinterpretasikan dan diimplementasikan.\n",
        "  - **Efisien untuk Data Kecil**: Cocok untuk dataset kecil dengan jumlah fitur yang tidak terlalu banyak.\n",
        "  - **Probabilistik**: Memberikan probabilitas sebagai output, yang dapat membantu dalam pengambilan keputusan.\n",
        "\n",
        "- **Kekurangan**:\n",
        "  - **Hanya untuk Linear Decision Boundaries**: Logistic Regression cenderung kurang efektif untuk data yang tidak terpisah secara linier.\n",
        "  - **Rentan terhadap Overfitting**: Pada dataset yang lebih kompleks, model ini dapat mengalami overfitting jika tidak ditangani dengan baik.\n",
        "\n",
        "### 2. Random Forest\n",
        "\n",
        "- **Deskripsi**: \n",
        "  Random Forest adalah algoritma ensemble yang menggunakan banyak pohon keputusan (decision trees) untuk meningkatkan akurasi klasifikasi. Setiap pohon memberikan suara untuk kelas, dan kelas dengan suara terbanyak menjadi prediksi akhir.\n",
        "\n",
        "- **Kelebihan**:\n",
        "  - **Tahan Terhadap Overfitting**: Dengan menggunakan banyak pohon keputusan, Random Forest cenderung lebih tahan terhadap overfitting dibandingkan dengan model pohon keputusan tunggal.\n",
        "  - **Mampu Menangani Data Besar**: Efektif untuk dataset besar dengan banyak fitur.\n",
        "  - **Mendukung Fitur Kategorikal dan Numerik**: Dapat bekerja dengan baik pada dataset yang memiliki berbagai tipe data.\n",
        "\n",
        "- **Kekurangan**:\n",
        "  - **Kompleksitas Model**: Model yang dihasilkan lebih kompleks dan kurang interpretable dibandingkan dengan Logistic Regression.\n",
        "  - **Waktu Komputasi**: Dapat memerlukan lebih banyak waktu untuk pelatihan dibandingkan dengan model yang lebih sederhana, terutama pada dataset yang sangat besar.\n",
        "\n",
        "Dengan menggunakan kedua algoritma ini, saya dapat membandingkan kinerja model dan memilih model yang paling sesuai untuk analisis lebih lanjut. Logistic Regression memberikan interpretasi yang lebih mudah, sementara Random Forest menawarkan akurasi yang lebih baik pada dataset yang kompleks.\n",
        "\n"
      ]
    },
    {
      "cell_type": "markdown",
      "metadata": {
        "id": "ergzChZFEL-O"
      },
      "source": [
        "## **b. Evaluasi Model Klasifikasi**"
      ]
    },
    {
      "cell_type": "markdown",
      "metadata": {
        "id": "zOm68u-7NpLT"
      },
      "source": [
        "Setelah membangun model klasifikasi, langkah selanjutnya adalah melakukan evaluasi untuk menilai kinerja model. Evaluasi ini penting untuk memastikan bahwa model dapat menggeneralisasi dengan baik pada data yang belum pernah dilihat sebelumnya. Berikut adalah langkah-langkah yang akan dilakukan dalam tahap ini:\n",
        "\n",
        "1. **Lakukan Prediksi Menggunakan Data Uji**:\n",
        "   - Gunakan model yang telah dilatih untuk melakukan prediksi pada data uji. Ini akan memberikan gambaran tentang seberapa baik model dapat memprediksi kelas yang benar.\n",
        "\n",
        "2. **Hitung Metrik Evaluasi**:\n",
        "   - Hitung metrik evaluasi seperti **Accuracy** dan **F1-Score** untuk menilai kinerja model. Metrik ini memberikan informasi tentang seberapa baik model dalam mengklasifikasikan data.\n",
        "   - Opsional: Anda juga dapat menghitung **Precision** dan **Recall** untuk mendapatkan wawasan tambahan tentang performa model.\n",
        "\n",
        "3. **Buat Confusion Matrix**:\n",
        "   - Visualisasikan hasil prediksi dengan membuat confusion matrix. Ini akan menunjukkan jumlah prediksi yang benar dan salah untuk setiap kelas, memberikan gambaran yang lebih jelas tentang kinerja model.\n",
        "\n",
        "Dengan langkah-langkah ini, saya dapat mengevaluasi dan memahami efektivitas model klasifikasi yang telah dibangun.\n"
      ]
    },
    {
      "cell_type": "code",
      "execution_count": 6,
      "metadata": {
        "id": "tMq4QAssNLip"
      },
      "outputs": [
        {
          "name": "stdout",
          "output_type": "stream",
          "text": [
            "Logistic Regression - Akurasi: 0.94, F1-Score: 0.93\n",
            "Random Forest - Akurasi: 1.00, F1-Score: 1.00\n"
          ]
        },
        {
          "data": {
            "image/png": "[encoded data removed]",
            "text/plain": [
              "<Figure size 1200x500 with 1 Axes>"
            ]
          },
          "metadata": {},
          "output_type": "display_data"
        },
        {
          "data": {
            "image/png": "[encoded data removed]",
            "text/plain": [
              "<Figure size 640x480 with 3 Axes>"
            ]
          },
          "metadata": {},
          "output_type": "display_data"
        },
        {
          "data": {
            "image/png": "[encoded data removed]",
            "text/plain": [
              "<Figure size 640x480 with 2 Axes>"
            ]
          },
          "metadata": {},
          "output_type": "display_data"
        }
      ],
      "source": [
        "# 1. Lakukan Prediksi Menggunakan Data Uji\n",
        "y_pred_logistic = logistic_model.predict(X_test)\n",
        "y_pred_rf = rf_model.predict(X_test)\n",
        "\n",
        "# 2. Hitung Metrik Evaluasi\n",
        "accuracy_logistic = accuracy_score(y_test, y_pred_logistic)\n",
        "f1_logistic = f1_score(y_test, y_pred_logistic, average='weighted')\n",
        "\n",
        "accuracy_rf = accuracy_score(y_test, y_pred_rf)\n",
        "f1_rf = f1_score(y_test, y_pred_rf, average='weighted')\n",
        "\n",
        "# 3. Buat Confusion Matrix\n",
        "cm_logistic = confusion_matrix(y_test, y_pred_logistic)\n",
        "cm_rf = confusion_matrix(y_test, y_pred_rf)\n",
        "\n",
        "# Menampilkan hasil evaluasi\n",
        "print(f'Logistic Regression - Akurasi: {accuracy_logistic:.2f}, F1-Score: {f1_logistic:.2f}')\n",
        "print(f'Random Forest - Akurasi: {accuracy_rf:.2f}, F1-Score: {f1_rf:.2f}')\n",
        "\n",
        "# Visualisasi Confusion Matrix\n",
        "plt.figure(figsize=(12, 5))\n",
        "\n",
        "plt.subplot(1, 2, 1)\n",
        "ConfusionMatrixDisplay(confusion_matrix=cm_logistic).plot()\n",
        "plt.title('Confusion Matrix - Logistic Regression')\n",
        "\n",
        "plt.subplot(1, 2, 2)\n",
        "ConfusionMatrixDisplay(confusion_matrix=cm_rf).plot()\n",
        "plt.title('Confusion Matrix - Random Forest')\n",
        "\n",
        "plt.tight_layout()\n",
        "plt.show()\n"
      ]
    },
    {
      "cell_type": "markdown",
      "metadata": {
        "id": "H4_9OwrsXZlz"
      },
      "source": [
        "### Hasil Evaluasi Algoritma Klasifikasi\n",
        "\n",
        "Setelah melatih model klasifikasi menggunakan **Logistic Regression** dan **Random Forest**, berikut adalah hasil evaluasi yang diperoleh:\n",
        "\n",
        "1. **Logistic Regression**:\n",
        "   - **Akurasi**: 0.94\n",
        "   - **F1-Score**: 0.93\n",
        "   - **Confusion Matrix**: \n",
        "     - Hasil dari confusion matrix menunjukkan bahwa model ini sangat efektif dalam mengklasifikasikan data dengan tingkat kesalahan yang sangat rendah. Sebagian besar prediksi benar, dengan hanya sejumlah kecil kesalahan.\n",
        "\n",
        "2. **Random Forest**:\n",
        "   - **Akurasi**: 1.00\n",
        "   - **F1-Score**: 1.00\n",
        "   - **Confusion Matrix**: \n",
        "     - Model ini menunjukkan hasil yang sempurna, dengan semua prediksi benar. Ini menunjukkan bahwa Random Forest berhasil mengklasifikasikan semua data uji dengan akurasi 100%.\n",
        "\n",
        "### Perbandingan Hasil\n",
        "- **Akurasi**: \n",
        "  - Logistic Regression memiliki akurasi 94%, sedangkan Random Forest mencapai akurasi 100%. Ini menunjukkan bahwa Random Forest lebih efektif dalam mengklasifikasikan data dalam konteks ini.\n",
        "  \n",
        "- **F1-Score**: \n",
        "  - F1-Score Logistic Regression adalah 0.93, yang menunjukkan keseimbangan antara presisi dan recall, sementara Random Forest memiliki F1-Score sempurna 1.00.\n",
        "\n",
        "Hasil evaluasi menunjukkan bahwa **Random Forest** lebih unggul dibandingkan dengan **Logistic Regression** dalam hal akurasi dan F1-Score. Model ini dapat digunakan untuk pengambilan keputusan yang lebih tepat dalam konteks bisnis. Namun, Logistic Regression tetap merupakan pilihan yang baik untuk interpretasi yang lebih sederhana dan cepat.\n"
      ]
    },
    {
      "cell_type": "markdown",
      "metadata": {
        "id": "ph9yIYDXEPuB"
      },
      "source": [
        "## **c. Tuning Model Klasifikasi (Optional)**"
      ]
    },
    {
      "cell_type": "markdown",
      "metadata": {
        "id": "-Bikx3LINv5e"
      },
      "source": [
        "Pada tahap ini, saya akan melakukan tuning pada model klasifikasi untuk mencari kombinasi hyperparameter terbaik. Proses ini penting untuk mengoptimalkan kinerja model dan memastikan bahwa model dapat menggeneralisasi dengan baik pada data yang belum pernah dilihat sebelumnya.\n",
        "\n",
        "### Rekomendasi Tahapan:\n",
        "1. **Pilih Metode Tuning**:\n",
        "   - Saya dapat menggunakan **GridSearchCV** atau **RandomizedSearchCV** dari library `sklearn` untuk mencari kombinasi hyperparameter terbaik untuk model yang telah dibangun.\n",
        "\n",
        "2. **Tentukan Parameter yang Akan Diuji**:\n",
        "   - Pilih hyperparameter yang relevan untuk algoritma yang digunakan, seperti jumlah pohon dalam Random Forest atau regularization parameter dalam Logistic Regression.\n",
        "\n",
        "3. **Lakukan Tuning**:\n",
        "   - Jalankan proses tuning untuk menemukan kombinasi hyperparameter yang memberikan kinerja terbaik berdasarkan metrik evaluasi yang telah ditentukan.\n",
        "\n",
        "4. **Evaluasi Model Tuning**:\n",
        "   - Setelah mendapatkan model dengan hyperparameter terbaik, evaluasi model tersebut menggunakan data uji untuk melihat apakah ada peningkatan dalam akurasi dan F1-Score.\n",
        "\n",
        "Dengan langkah-langkah ini, saya dapat memastikan bahwa model klasifikasi yang dibangun adalah yang paling optimal untuk analisis lebih lanjut.\n"
      ]
    },
    {
      "cell_type": "code",
      "execution_count": 7,
      "metadata": {
        "id": "winbFzb8NL95"
      },
      "outputs": [
        {
          "name": "stderr",
          "output_type": "stream",
          "text": [
            "g:\\Software-IF\\Python_3-11-5\\Lib\\site-packages\\sklearn\\model_selection\\_split.py:776: UserWarning: The least populated class in y has only 1 members, which is less than n_splits=5.\n",
            "  warnings.warn(\n",
            "g:\\Software-IF\\Python_3-11-5\\Lib\\site-packages\\sklearn\\linear_model\\_sag.py:349: ConvergenceWarning: The max_iter was reached which means the coef_ did not converge\n",
            "  warnings.warn(\n",
            "g:\\Software-IF\\Python_3-11-5\\Lib\\site-packages\\sklearn\\linear_model\\_sag.py:349: ConvergenceWarning: The max_iter was reached which means the coef_ did not converge\n",
            "  warnings.warn(\n",
            "g:\\Software-IF\\Python_3-11-5\\Lib\\site-packages\\sklearn\\linear_model\\_sag.py:349: ConvergenceWarning: The max_iter was reached which means the coef_ did not converge\n",
            "  warnings.warn(\n",
            "g:\\Software-IF\\Python_3-11-5\\Lib\\site-packages\\sklearn\\linear_model\\_sag.py:349: ConvergenceWarning: The max_iter was reached which means the coef_ did not converge\n",
            "  warnings.warn(\n",
            "g:\\Software-IF\\Python_3-11-5\\Lib\\site-packages\\sklearn\\linear_model\\_sag.py:349: ConvergenceWarning: The max_iter was reached which means the coef_ did not converge\n",
            "  warnings.warn(\n",
            "g:\\Software-IF\\Python_3-11-5\\Lib\\site-packages\\sklearn\\linear_model\\_sag.py:349: ConvergenceWarning: The max_iter was reached which means the coef_ did not converge\n",
            "  warnings.warn(\n",
            "g:\\Software-IF\\Python_3-11-5\\Lib\\site-packages\\sklearn\\linear_model\\_sag.py:349: ConvergenceWarning: The max_iter was reached which means the coef_ did not converge\n",
            "  warnings.warn(\n",
            "g:\\Software-IF\\Python_3-11-5\\Lib\\site-packages\\sklearn\\linear_model\\_sag.py:349: ConvergenceWarning: The max_iter was reached which means the coef_ did not converge\n",
            "  warnings.warn(\n",
            "g:\\Software-IF\\Python_3-11-5\\Lib\\site-packages\\sklearn\\linear_model\\_sag.py:349: ConvergenceWarning: The max_iter was reached which means the coef_ did not converge\n",
            "  warnings.warn(\n",
            "g:\\Software-IF\\Python_3-11-5\\Lib\\site-packages\\sklearn\\linear_model\\_sag.py:349: ConvergenceWarning: The max_iter was reached which means the coef_ did not converge\n",
            "  warnings.warn(\n",
            "g:\\Software-IF\\Python_3-11-5\\Lib\\site-packages\\sklearn\\linear_model\\_sag.py:349: ConvergenceWarning: The max_iter was reached which means the coef_ did not converge\n",
            "  warnings.warn(\n",
            "g:\\Software-IF\\Python_3-11-5\\Lib\\site-packages\\sklearn\\linear_model\\_sag.py:349: ConvergenceWarning: The max_iter was reached which means the coef_ did not converge\n",
            "  warnings.warn(\n",
            "g:\\Software-IF\\Python_3-11-5\\Lib\\site-packages\\sklearn\\linear_model\\_sag.py:349: ConvergenceWarning: The max_iter was reached which means the coef_ did not converge\n",
            "  warnings.warn(\n",
            "g:\\Software-IF\\Python_3-11-5\\Lib\\site-packages\\sklearn\\linear_model\\_sag.py:349: ConvergenceWarning: The max_iter was reached which means the coef_ did not converge\n",
            "  warnings.warn(\n",
            "g:\\Software-IF\\Python_3-11-5\\Lib\\site-packages\\sklearn\\linear_model\\_sag.py:349: ConvergenceWarning: The max_iter was reached which means the coef_ did not converge\n",
            "  warnings.warn(\n",
            "g:\\Software-IF\\Python_3-11-5\\Lib\\site-packages\\sklearn\\linear_model\\_sag.py:349: ConvergenceWarning: The max_iter was reached which means the coef_ did not converge\n",
            "  warnings.warn(\n",
            "g:\\Software-IF\\Python_3-11-5\\Lib\\site-packages\\sklearn\\linear_model\\_sag.py:349: ConvergenceWarning: The max_iter was reached which means the coef_ did not converge\n",
            "  warnings.warn(\n",
            "g:\\Software-IF\\Python_3-11-5\\Lib\\site-packages\\sklearn\\linear_model\\_sag.py:349: ConvergenceWarning: The max_iter was reached which means the coef_ did not converge\n",
            "  warnings.warn(\n",
            "g:\\Software-IF\\Python_3-11-5\\Lib\\site-packages\\sklearn\\linear_model\\_sag.py:349: ConvergenceWarning: The max_iter was reached which means the coef_ did not converge\n",
            "  warnings.warn(\n",
            "g:\\Software-IF\\Python_3-11-5\\Lib\\site-packages\\sklearn\\linear_model\\_sag.py:349: ConvergenceWarning: The max_iter was reached which means the coef_ did not converge\n",
            "  warnings.warn(\n",
            "g:\\Software-IF\\Python_3-11-5\\Lib\\site-packages\\sklearn\\linear_model\\_sag.py:349: ConvergenceWarning: The max_iter was reached which means the coef_ did not converge\n",
            "  warnings.warn(\n",
            "g:\\Software-IF\\Python_3-11-5\\Lib\\site-packages\\sklearn\\linear_model\\_sag.py:349: ConvergenceWarning: The max_iter was reached which means the coef_ did not converge\n",
            "  warnings.warn(\n",
            "g:\\Software-IF\\Python_3-11-5\\Lib\\site-packages\\sklearn\\linear_model\\_sag.py:349: ConvergenceWarning: The max_iter was reached which means the coef_ did not converge\n",
            "  warnings.warn(\n",
            "g:\\Software-IF\\Python_3-11-5\\Lib\\site-packages\\sklearn\\linear_model\\_sag.py:349: ConvergenceWarning: The max_iter was reached which means the coef_ did not converge\n",
            "  warnings.warn(\n",
            "g:\\Software-IF\\Python_3-11-5\\Lib\\site-packages\\sklearn\\linear_model\\_sag.py:349: ConvergenceWarning: The max_iter was reached which means the coef_ did not converge\n",
            "  warnings.warn(\n"
          ]
        },
        {
          "name": "stdout",
          "output_type": "stream",
          "text": [
            "Best parameters for Logistic Regression: {'C': 1, 'solver': 'liblinear'}\n",
            "Best F1-Score for Logistic Regression: 0.9136738263663691\n"
          ]
        },
        {
          "name": "stderr",
          "output_type": "stream",
          "text": [
            "g:\\Software-IF\\Python_3-11-5\\Lib\\site-packages\\sklearn\\model_selection\\_split.py:776: UserWarning: The least populated class in y has only 1 members, which is less than n_splits=5.\n",
            "  warnings.warn(\n"
          ]
        },
        {
          "name": "stdout",
          "output_type": "stream",
          "text": [
            "Best parameters for Random Forest: {'n_estimators': 50, 'min_samples_split': 5, 'max_depth': 20}\n",
            "Best F1-Score for Random Forest: 0.9991977949498697\n"
          ]
        }
      ],
      "source": [
        "# 1. Tuning untuk Logistic Regression\n",
        "logistic_model = LogisticRegression(max_iter=1000)\n",
        "\n",
        "# Parameter grid untuk GridSearchCV\n",
        "param_grid_logistic = {\n",
        "    'C': [0.01, 0.1, 1, 10, 100],  # Regularization strength\n",
        "    'solver': ['liblinear', 'saga']  # Algoritma optimasi\n",
        "}\n",
        "\n",
        "# Menerapkan GridSearchCV\n",
        "grid_search_logistic = GridSearchCV(logistic_model, param_grid_logistic, cv=5, scoring='f1_weighted')\n",
        "grid_search_logistic.fit(X_train, y_train)\n",
        "\n",
        "# Menampilkan hasil terbaik\n",
        "print(\"Best parameters for Logistic Regression:\", grid_search_logistic.best_params_)\n",
        "print(\"Best F1-Score for Logistic Regression:\", grid_search_logistic.best_score_)\n",
        "\n",
        "# 2. Tuning untuk Random Forest\n",
        "rf_model = RandomForestClassifier()\n",
        "\n",
        "# Parameter grid untuk GridSearchCV\n",
        "param_grid_rf = {\n",
        "    'n_estimators': [50, 100, 200],  # Jumlah pohon\n",
        "    'max_depth': [None, 10, 20, 30],  # Kedalaman maksimum pohon\n",
        "    'min_samples_split': [2, 5, 10]  # Jumlah minimum sampel untuk membagi node\n",
        "}\n",
        "\n",
        "# Menerapkan RandomizedSearchCV\n",
        "random_search_rf = RandomizedSearchCV(rf_model, param_grid_rf, n_iter=10, cv=5, scoring='f1_weighted', random_state=42)\n",
        "random_search_rf.fit(X_train, y_train)\n",
        "\n",
        "# Menampilkan hasil terbaik\n",
        "print(\"Best parameters for Random Forest:\", random_search_rf.best_params_)\n",
        "print(\"Best F1-Score for Random Forest:\", random_search_rf.best_score_)\n"
      ]
    },
    {
      "cell_type": "markdown",
      "metadata": {},
      "source": [
        "### Hasil Tuning Model Klasifikasi\n",
        "\n",
        "Setelah melakukan tuning pada model klasifikasi menggunakan **GridSearchCV** dan **RandomizedSearchCV**, berikut adalah hasil yang diperoleh:\n",
        "\n",
        "1. **Logistic Regression**:\n",
        "   - **Best Parameters**: \n",
        "     - `C`: 1\n",
        "     - `solver`: 'liblinear'\n",
        "   - **Best F1-Score**: 0.9137\n",
        "     - Nilai F1-Score ini menunjukkan bahwa model Logistic Regression memiliki keseimbangan yang baik antara presisi dan recall pada data uji, meskipun tidak mencapai 92%. Ini menunjukkan bahwa model cukup efektif dalam mengklasifikasikan data, tetapi masih ada ruang untuk perbaikan.\n",
        "\n",
        "2. **Random Forest**:\n",
        "   - **Best Parameters**: \n",
        "     - `n_estimators`: 50\n",
        "     - `min_samples_split`: 5\n",
        "     - `max_depth`: 20\n",
        "   - **Best F1-Score**: 0.9992\n",
        "     - Nilai F1-Score yang sangat tinggi ini menunjukkan bahwa model Random Forest berhasil mengklasifikasikan semua data uji dengan sangat baik, mencapai akurasi hampir sempurna. Ini menunjukkan bahwa model ini sangat efektif dalam memisahkan kelas-kelas dalam dataset.\n",
        "\n",
        "Hasil tuning menunjukkan bahwa **Random Forest** jauh lebih unggul dibandingkan dengan **Logistic Regression** dalam hal kinerja, dengan F1-Score yang hampir sempurna. Parameter yang dioptimalkan untuk kedua model memberikan wawasan tentang bagaimana model dapat disesuaikan untuk meningkatkan kinerja. Dengan hasil ini, saya dapat melanjutkan untuk mengevaluasi dan membandingkan kedua model lebih lanjut.\n"
      ]
    },
    {
      "cell_type": "markdown",
      "metadata": {
        "id": "hE7pqlEPEYzI"
      },
      "source": [
        "## **d. Evaluasi Model Klasifikasi setelah Tuning (Optional)**"
      ]
    },
    {
      "cell_type": "markdown",
      "metadata": {
        "id": "feaPESoeN0zz"
      },
      "source": [
        "Setelah melakukan tuning pada model klasifikasi, langkah selanjutnya adalah mengevaluasi model dengan hyperparameter terbaik yang telah ditemukan. Proses ini penting untuk memastikan bahwa model yang telah disesuaikan memberikan kinerja yang lebih baik dibandingkan dengan model sebelumnya.\n",
        "\n",
        "### Rekomendasi Tahapan:\n",
        "1. **Gunakan Model dengan Hyperparameter Terbaik**:\n",
        "   - Gunakan parameter terbaik yang ditemukan selama proses tuning untuk melatih model kembali.\n",
        "\n",
        "2. **Hitung Ulang Metrik Evaluasi**:\n",
        "   - Hitung metrik evaluasi seperti **Accuracy** dan **F1-Score** untuk melihat apakah ada peningkatan performa setelah tuning. Ini akan memberikan gambaran yang lebih jelas tentang seberapa baik model dapat mengklasifikasikan data uji.\n",
        "\n",
        "Dengan langkah-langkah ini, saya dapat mengevaluasi efektivitas tuning yang telah dilakukan dan menentukan apakah model yang telah dioptimalkan memberikan hasil yang lebih baik.\n"
      ]
    },
    {
      "cell_type": "code",
      "execution_count": 8,
      "metadata": {
        "id": "HTXZRvEeNMb1"
      },
      "outputs": [
        {
          "name": "stdout",
          "output_type": "stream",
          "text": [
            "Logistic Regression (Tuned) - Akurasi: 0.93, F1-Score: 0.91\n",
            "Random Forest (Tuned) - Akurasi: 1.00, F1-Score: 1.00\n"
          ]
        }
      ],
      "source": [
        "# Menggunakan model Logistic Regression dengan hyperparameter terbaik\n",
        "best_logistic_model = LogisticRegression(C=grid_search_logistic.best_params_['C'], \n",
        "                                         solver=grid_search_logistic.best_params_['solver'], \n",
        "                                         max_iter=1000)\n",
        "best_logistic_model.fit(X_train, y_train)\n",
        "\n",
        "# Menghitung prediksi dan metrik evaluasi untuk Logistic Regression\n",
        "y_pred_logistic_best = best_logistic_model.predict(X_test)\n",
        "accuracy_logistic_best = accuracy_score(y_test, y_pred_logistic_best)\n",
        "f1_logistic_best = f1_score(y_test, y_pred_logistic_best, average='weighted')\n",
        "\n",
        "# Menggunakan model Random Forest dengan hyperparameter terbaik\n",
        "best_rf_model = RandomForestClassifier(n_estimators=random_search_rf.best_params_['n_estimators'], \n",
        "                                       min_samples_split=random_search_rf.best_params_['min_samples_split'], \n",
        "                                       max_depth=random_search_rf.best_params_['max_depth'])\n",
        "best_rf_model.fit(X_train, y_train)\n",
        "\n",
        "# Menghitung prediksi dan metrik evaluasi untuk Random Forest\n",
        "y_pred_rf_best = best_rf_model.predict(X_test)\n",
        "accuracy_rf_best = accuracy_score(y_test, y_pred_rf_best)\n",
        "f1_rf_best = f1_score(y_test, y_pred_rf_best, average='weighted')\n",
        "\n",
        "# Menampilkan hasil evaluasi setelah tuning\n",
        "print(f'Logistic Regression (Tuned) - Akurasi: {accuracy_logistic_best:.2f}, F1-Score: {f1_logistic_best:.2f}')\n",
        "print(f'Random Forest (Tuned) - Akurasi: {accuracy_rf_best:.2f}, F1-Score: {f1_rf_best:.2f}')"
      ]
    },
    {
      "cell_type": "markdown",
      "metadata": {
        "id": "ZRsOdm4uEgAW"
      },
      "source": [
        "## **e. Analisis Hasil Evaluasi Model Klasifikasi**"
      ]
    },
    {
      "cell_type": "markdown",
      "metadata": {
        "id": "Hm3BhSi6N4_l"
      },
      "source": [
        "\n",
        "Setelah melakukan evaluasi model klasifikasi, berikut adalah analisis hasil yang diperoleh:\n",
        "\n",
        "1. **Bandingkan Hasil Evaluasi Sebelum dan Setelah Tuning**:\n",
        "   - **Logistic Regression**:\n",
        "     - **Sebelum Tuning**: Akurasi: 0.94, F1-Score: 0.93\n",
        "     - **Setelah Tuning**: Akurasi: 0.93, F1-Score: 0.91\n",
        "     - Tuning tidak memberikan peningkatan pada model ini, bahkan menunjukkan penurunan kinerja. Hal ini menunjukkan bahwa model mungkin sudah berada pada performa optimalnya sebelum tuning.\n",
        "   \n",
        "   - **Random Forest**:\n",
        "     - **Sebelum Tuning**: Akurasi: 1.00, F1-Score: 1.00\n",
        "     - **Setelah Tuning**: Akurasi: 1.00, F1-Score: 1.00\n",
        "     - Model ini tetap menunjukkan kinerja yang sempurna setelah tuning, yang menunjukkan bahwa hyperparameter yang dipilih sudah optimal.\n",
        "\n",
        "2. **Identifikasi Kelemahan Model**:\n",
        "   - **Logistic Regression** menunjukkan kelemahan dalam hal akurasi dan F1-Score setelah tuning, yang mungkin mengindikasikan bahwa model ini tidak cukup kompleks untuk menangkap pola dalam data.\n",
        "   - **Random Forest** tidak menunjukkan kelemahan yang signifikan, tetapi perlu diwaspadai kemungkinan overfitting, mengingat akurasi dan F1-Score yang sempurna. Evaluasi lebih lanjut diperlukan untuk memastikan model dapat menggeneralisasi dengan baik pada data baru.\n",
        "\n",
        "3. **Berikan Rekomendasi Tindakan Lanjutan**:\n",
        "   - Untuk **Logistic Regression**, pertimbangkan untuk mengumpulkan lebih banyak data atau mencoba algoritma yang lebih kompleks seperti **Support Vector Machines** atau **XGBoost**.\n",
        "   - Untuk **Random Forest**, meskipun hasilnya sangat baik, tetap penting untuk melakukan validasi silang pada dataset yang lebih besar atau berbeda untuk memastikan model tidak overfit.\n",
        "   - Secara umum, pertimbangkan untuk melakukan feature engineering lebih lanjut untuk meningkatkan kualitas data dan eksplorasi lebih dalam tentang pola yang ada dalam dataset.\n"
      ]
    }
  ],
  "metadata": {
    "colab": {
      "provenance": []
    },
    "kernelspec": {
      "display_name": "Python 3",
      "name": "python3"
    },
    "language_info": {
      "codemirror_mode": {
        "name": "ipython",
        "version": 3
      },
      "file_extension": ".py",
      "mimetype": "text/x-python",
      "name": "python",
      "nbconvert_exporter": "python",
      "pygments_lexer": "ipython3",
      "version": "3.11.5"
    }
  },
  "nbformat": 4,
  "nbformat_minor": 0
}
